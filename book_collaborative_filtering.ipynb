{
 "cells": [
  {
   "cell_type": "code",
   "execution_count": 1,
   "metadata": {},
   "outputs": [],
   "source": [
    "import numpy as np\n",
    "import pandas as pd\n",
    "books = pd.read_csv(\"books.csv\")[[\"book_id\", \"title\", \"authors\"]]\n",
    "ratings = pd.read_csv(\"ratings.csv\")"
   ]
  },
  {
   "cell_type": "code",
   "execution_count": 2,
   "metadata": {},
   "outputs": [],
   "source": [
    "# Create dataframe with my ratings and a custom user id\n",
    "my_user_id = -1\n",
    "my_ratings = [\n",
    "    [\"The Hitchhiker's Guide to the Galaxy (Hitchhiker's Guide to the Galaxy, #1)\", 5],\n",
    "    [\"The Martian\", 5],\n",
    "    [\"Surely You're Joking, Mr. Feynman!: Adventures of a Curious Character\", 5],\n",
    "    ['Going Solo', 5],\n",
    "    [\"Flatland: A Romance of Many Dimensions\", 5],\n",
    "    [\"Gödel, Escher, Bach: An Eternal Golden Braid\", 5],\n",
    "    [\"The Hundred-Year-Old Man Who Climbed Out of the Window and Disappeared\", 5],\n",
    "    [\"Gut: The Inside Story of Our Body's Most Underrated Organ\", 5],\n",
    "    [\"Brave New World\", 4],\n",
    "    [\"The Three-Body Problem (Remembrance of Earth's Past, #1)\", 2],\n",
    "    [\"The Dark Forest (Remembrance of Earth's Past, #2)\", 2],\n",
    "    [\"The Remains of the Day\", 5],\n",
    "    [\"The Pursuit of Happyness\", 5],\n",
    "    [\"Animal Farm\", 5],\n",
    "    [\"1984\", 5],\n",
    "    [\"Norwegian Wood\", 5],\n",
    "    [\"Three Men in a Boat (Three Men, #1)\", 5],\n",
    "    [\"Lord of the Flies\", 3],\n",
    "    [\"Buddenbrooks: The Decline of a Family\", 1],\n",
    "    [\"To Kill a Mockingbird\", 5],\n",
    "    [\"Harry Potter and the Sorcerer's Stone (Harry Potter, #1)\", 3],\n",
    "    [\"Harry Potter and the Chamber of Secrets (Harry Potter, #2)\", 3],\n",
    "    [\"Harry Potter and the Prisoner of Azkaban (Harry Potter, #3)\", 3],\n",
    "    [\"Harry Potter and the Goblet of Fire (Harry Potter, #4)\", 3],\n",
    "    [\"Harry Potter and the Order of the Phoenix (Harry Potter, #5)\", 3],\n",
    "    [\"Harry Potter and the Half-Blood Prince (Harry Potter, #6)\", 3],\n",
    "    [\"Harry Potter and the Deathly Hallows (Harry Potter, #7)\", 3],\n",
    "    [\"Perfume: The Story of a Murderer\", 1],\n",
    "    [\"Sapiens: A Brief History of Humankind\", 5],\n",
    "    [\"The Circle\", 1],\n",
    "    [\"The Reader\", 2],\n",
    "    [\"Cloud Atlas\", 5],\n",
    "    [\"A Briefer History of Time\", 5],\n",
    "    [\"The Grand Design\", 4],\n",
    "    [\"The Universe in a Nutshell\", 4],\n",
    "    [\"All Quiet on the Western Front\", 5],\n",
    "    [\"Inferno (Robert Langdon, #4)\", 3],\n",
    "    [\"The Da Vinci Code (Robert Langdon, #2)\", 4],\n",
    "    [\"I Am Legend\", 5],\n",
    "    [\"Catch Me If You Can: The True Story of a Real Fake\", 4],\n",
    "    [\"Memoirs of a Geisha\", 5],\n",
    "    [\"A Fine Balance\", 5],\n",
    "    [\"Man's Search for Meaning\", 5],\n",
    "    [\"Dune (Dune Chronicles #1)\", 4],\n",
    "    [\"The Kite Runner\", 5],\n",
    "    [\"Kon-Tiki: Across The Pacific In A Raft\", 5],\n",
    "    [\"Seven Years in Tibet\", 5],\n",
    "    [\"The Diary of a Young Girl\", 5],\n",
    "    [\"The Alchemist\", 5],\n",
    "    [\"Siddhartha\", 5],\n",
    "    [\"The Glass Bead Game\", 4],\n",
    "    [\"Demian. Die Geschichte von Emil Sinclairs Jugend\", 5],\n",
    "    [\"Steppenwolf\", 4],\n",
    "    [\"Quo Vadis\", 5],\n",
    "    [\"P.S. I Love You\", 4],\n",
    "    [\"The Pillars of the Earth (The Kingsbridge Series, #1)\", 4],\n",
    "    [\"Eye of the Needle\", 4],\n",
    "    [\"Eragon (The Inheritance Cycle, #1)\", 4],\n",
    "    [\"Wild Swans: Three Daughters of China\", 5],\n",
    "    [\"I Am Malala: The Story of the Girl Who Stood Up for Education and Was Shot by the Taliban\", 5]\n",
    "] \n",
    "my_ratings = pd.DataFrame(my_ratings, columns=['title', 'rating'])\n",
    "my_ratings['user_id'] = my_user_id\n",
    "my_ratings = pd.merge(my_ratings, books, on='title', how='left')\n",
    "\n",
    "# Append my ratings to the ratings table\n",
    "ratings = ratings.append(my_ratings[['user_id', 'book_id', 'rating']], ignore_index=True)\n",
    "ratings = ratings.merge(books[[\"book_id\", \"title\"]], how=\"left\", on=\"book_id\").dropna()"
   ]
  },
  {
   "cell_type": "code",
   "execution_count": 3,
   "metadata": {},
   "outputs": [],
   "source": [
    "uii_matrix = ratings.pivot_table(\n",
    "  index=[\"user_id\"], \n",
    "  columns=[\"title\"], \n",
    "  values=\"rating\").fillna(np.nan)"
   ]
  },
  {
   "cell_type": "code",
   "execution_count": 4,
   "metadata": {},
   "outputs": [
    {
     "name": "stderr",
     "output_type": "stream",
     "text": [
      "/home/felix/anaconda3/lib/python3.7/site-packages/numpy/lib/function_base.py:2526: RuntimeWarning: Degrees of freedom <= 0 for slice\n",
      "  c = cov(x, y, rowvar)\n",
      "/home/felix/anaconda3/lib/python3.7/site-packages/numpy/lib/function_base.py:2455: RuntimeWarning: divide by zero encountered in true_divide\n",
      "  c *= np.true_divide(1, fact)\n"
     ]
    }
   ],
   "source": [
    "similarities = uii_matrix.corrwith(uii_matrix.loc[my_user_id], axis=1)"
   ]
  },
  {
   "cell_type": "code",
   "execution_count": 5,
   "metadata": {},
   "outputs": [],
   "source": [
    "minimum_number_of_books_rated_in_common = 10\n",
    "\n",
    "# Only use those which have an intersection of more than n books\n",
    "my_books_read = uii_matrix.loc[my_user_id].notna()\n",
    "intersections = uii_matrix.apply(lambda x: (x.notna() & my_books_read).sum(), axis=1)\n",
    "similarities[intersections < minimum_number_of_books_rated_in_common] = np.nan\n",
    "\n",
    "# Remove self similarity\n",
    "similarities[my_user_id] = np.nan"
   ]
  },
  {
   "cell_type": "code",
   "execution_count": 6,
   "metadata": {},
   "outputs": [
    {
     "name": "stdout",
     "output_type": "stream",
     "text": [
      "title\n",
      "Lonesome Dove                                                                  4.884893\n",
      "Ahab's Wife, or The Star-Gazer                                                 4.852697\n",
      "Someone Knows My Name                                                          4.844823\n",
      "The Diving Bell and the Butterfly                                              4.828780\n",
      "The Nightingale                                                                4.821673\n",
      "A Storm of Swords: Blood and Gold (A Song of Ice and Fire, #3: Part 2 of 2)    4.810564\n",
      "The Power of One (The Power of One, #1)                                        4.778453\n",
      "The Book of Mormon: Another Testament of Jesus Christ                          4.777642\n",
      "The Complete Maus (Maus, #1-2)                                                 4.772905\n",
      "Maus I: A Survivor's Tale: My Father Bleeds History (Maus, #1)                 4.745223\n",
      "dtype: float64\n"
     ]
    }
   ],
   "source": [
    "minimal_similarity = 0.7\n",
    "minimal_number_of_ratings = 5\n",
    "\n",
    "def scoring(column):\n",
    "    # Consider those users with at least a similarity of minimal_similarity\n",
    "    neighbours = similarities > minimal_similarity\n",
    "    # Calculate weighted mean of ratings as scores\n",
    "    numerator = np.sum(column[neighbours]*similarities[neighbours])\n",
    "    denominator = np.sum(similarities[neighbours][column[neighbours].notna()])\n",
    "    predicted_rating = numerator/denominator if denominator != 0 else np.nan\n",
    "\n",
    "    # If book has been rated less than minimal_number_of_ratings, set its score to nan\n",
    "    if column[neighbours].notna().sum() <= minimal_number_of_ratings:\n",
    "        predicted_rating = np.nan\n",
    "    return predicted_rating\n",
    "\n",
    "scores = uii_matrix.apply(lambda x: scoring(x))\n",
    "\n",
    "# Print only recommendations of books I haven't read:\n",
    "print(scores[~my_books_read].sort_values(ascending=False)[:10])"
   ]
  },
  {
   "cell_type": "code",
   "execution_count": null,
   "metadata": {},
   "outputs": [],
   "source": []
  }
 ],
 "metadata": {
  "kernelspec": {
   "display_name": "Python 3",
   "language": "python",
   "name": "python3"
  },
  "language_info": {
   "codemirror_mode": {
    "name": "ipython",
    "version": 3
   },
   "file_extension": ".py",
   "mimetype": "text/x-python",
   "name": "python",
   "nbconvert_exporter": "python",
   "pygments_lexer": "ipython3",
   "version": "3.7.6"
  }
 },
 "nbformat": 4,
 "nbformat_minor": 4
}
