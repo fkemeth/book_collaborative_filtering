{
 "cells": [
  {
   "cell_type": "code",
   "execution_count": 1,
   "metadata": {},
   "outputs": [],
   "source": [
    "import numpy as np\n",
    "import pandas as pd\n",
    "\n",
    "from src.book_collaborative_filtering.evaluator import Evaluator"
   ]
  },
  {
   "cell_type": "code",
   "execution_count": null,
   "metadata": {},
   "outputs": [],
   "source": [
    "number_of_runs = 100\n",
    "ratings = pd.read_csv(\"ratings.csv\")"
   ]
  },
  {
   "cell_type": "markdown",
   "metadata": {},
   "source": [
    "# Baseline"
   ]
  },
  {
   "cell_type": "code",
   "execution_count": 3,
   "metadata": {},
   "outputs": [],
   "source": [
    "params = {\n",
    "    \"neighborhood_method\": None,\n",
    "    \"correlation_method\": \"pearson\",\n",
    "    \"minimal_similarity\": -1,\n",
    "    \"number_of_neighbors\": 0,\n",
    "    \"minimum_number_of_books_rated_in_common\": 1,\n",
    "    \"minimal_number_of_ratings\": 1,\n",
    "    \"number_of_runs\": 10,\n",
    "    \"deviation_from_mean\": False,\n",
    "}\n",
    "\n",
    "evaluator = Evaluator(ratings=ratings, params=params)\n",
    "evaluator.run_parallel(number_of_runs=number_of_runs)\n",
    "\n",
    "metrics = pd.DataFrame(evaluator.metrics)\n",
    "metrics = metrics.join(pd.DataFrame(params, index=[0]), how='cross')\n",
    "metrics.head()\n",
    "metrics.to_csv(\"results/book_cf_results.csv\")"
   ]
  },
  {
   "cell_type": "code",
   "execution_count": null,
   "metadata": {},
   "outputs": [],
   "source": []
  }
 ],
 "metadata": {
  "kernelspec": {
   "display_name": "Python 3",
   "language": "python",
   "name": "python3"
  },
  "language_info": {
   "codemirror_mode": {
    "name": "ipython",
    "version": 3
   },
   "file_extension": ".py",
   "mimetype": "text/x-python",
   "name": "python",
   "nbconvert_exporter": "python",
   "pygments_lexer": "ipython3",
   "version": "3.12.0"
  }
 },
 "nbformat": 4,
 "nbformat_minor": 2
}
