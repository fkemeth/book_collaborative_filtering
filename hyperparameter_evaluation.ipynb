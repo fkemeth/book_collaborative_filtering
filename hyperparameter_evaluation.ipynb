{
 "cells": [
  {
   "cell_type": "code",
   "execution_count": 61,
   "metadata": {},
   "outputs": [],
   "source": [
    "import numpy as np\n",
    "import pandas as pd\n",
    "from pandas.core import nanops\n",
    "\n",
    "import matplotlib.pyplot as plt\n",
    "from sklearn.model_selection import KFold, train_test_split\n",
    "\n",
    "from concurrent.futures import ThreadPoolExecutor, ProcessPoolExecutor"
   ]
  },
  {
   "cell_type": "code",
   "execution_count": 71,
   "metadata": {},
   "outputs": [],
   "source": [
    "CORRELATION_METHOD = 'spearman' # 'pearson' or 'spearman'\n",
    "NEIGHBORHOOD_METHOD = 'threshold' # 'threshold' or 'number'\n",
    "SIMILARITY_THRESHOLD = 0.7 # only used if NEIGHBORHOOD_METHOD = 'threshold'\n",
    "N_NEIGHBORS = 50 # only used if NEIGHBORHOOD_METHOD = 'number'\n",
    "MIN_N_CO_RATED = 10 # minimum number of co-rated items to be considered as neighbor\n",
    "MIN_N_RATINGS = 5 # minimum number of ratings per item need from neighbors to make prediction\n",
    "DEVIATION_FROM_MEAN = False # if to make prediction as deviation from mean\n",
    "N_RUNS = 3"
   ]
  },
  {
   "cell_type": "code",
   "execution_count": 63,
   "metadata": {},
   "outputs": [],
   "source": [
    "books = pd.read_csv(\"books.csv\")[[\"book_id\", \"title\", \"authors\"]]\n",
    "ratings = pd.read_csv(\"ratings.csv\")"
   ]
  },
  {
   "cell_type": "code",
   "execution_count": 64,
   "metadata": {},
   "outputs": [
    {
     "name": "stdout",
     "output_type": "stream",
     "text": [
      "Number of user: 53424\n"
     ]
    }
   ],
   "source": [
    "user_ids = ratings.user_id.unique()\n",
    "num_users = len(user_ids)\n",
    "print(f\"Number of user: {num_users}\")"
   ]
  },
  {
   "cell_type": "code",
   "execution_count": 65,
   "metadata": {},
   "outputs": [],
   "source": [
    "class CollaborativeFilter():\n",
    "    def __init__(self, ratings: pd.DataFrame, \n",
    "                 user_col: str=\"user_id\", \n",
    "                 item_col: str=\"book_id\",\n",
    "                 neighborhood_method: str='threshold',\n",
    "                 correlation_method: str='pearson',\n",
    "                 minimal_similarity: float=0.7,\n",
    "                 number_of_neighbors: int=50,\n",
    "                 minimum_number_of_books_rated_in_common: int=10,\n",
    "                 minimal_number_of_ratings: int=5,\n",
    "                 deviation_from_mean: bool=True) -> None:\n",
    "        self.ratings = ratings\n",
    "        self.user_col = user_col\n",
    "        self.item_col = item_col\n",
    "        \n",
    "        self.user_means = ratings[[self.user_col, 'rating']].groupby(self.user_col).agg(\"mean\")\n",
    "        \n",
    "        self.neighborhood_method = neighborhood_method\n",
    "        self.correlation_method = correlation_method\n",
    "        self.minimal_similarity = minimal_similarity\n",
    "        self.minimum_number_of_books_rated_in_common = minimum_number_of_books_rated_in_common\n",
    "        self.minimal_number_of_ratings = minimal_number_of_ratings\n",
    "        self.deviation_from_mean = deviation_from_mean\n",
    "        \n",
    "    def get_similarities(self, input_ratings: pd.DataFrame, user_id: int) -> pd.DataFrame:\n",
    "        ratings = pd.concat([self.ratings, input_ratings])\n",
    "        relevant_ratings = pd.merge(ratings, input_ratings[self.item_col], on=[self.item_col], how='inner')\n",
    "        uii_matrix = relevant_ratings.pivot_table(\n",
    "          index=[self.user_col], \n",
    "          columns=[self.item_col], \n",
    "          values=\"rating\")\n",
    "\n",
    "        similarities = uii_matrix.corrwith(\n",
    "            uii_matrix.loc[user_id], \n",
    "            axis=1, \n",
    "            method=lambda x,y: nanops.nancorr(x, y, min_periods=self.minimum_number_of_books_rated_in_common, method=self.correlation_method))\n",
    "        \n",
    "        # Remove self similarity\n",
    "        similarities[user_id] = np.nan\n",
    "        similarities = similarities.dropna()\n",
    "        \n",
    "        # Consider those users with at least a similarity of minimal_similarity\n",
    "        if self.neighborhood_method == 'threshold':\n",
    "            similarities = similarities[similarities>self.minimal_similarity]\n",
    "        elif self.neighborhood_method == 'number':\n",
    "            similarities = similarities.nlargest(n=self.number_of_neighbors)\n",
    "        similarities.name = 'similarities'\n",
    "        return similarities\n",
    "    \n",
    "    def scoring(self, column, similarities: pd.Series, input_mean: float) -> float:\n",
    "        # If book has been rated less than minimal_number_of_ratings, set its score to nan\n",
    "        if column.notna().sum() < self.minimal_number_of_ratings:\n",
    "            return np.nan\n",
    "        \n",
    "        # Calculate weighted mean of ratings as scores\n",
    "        denominator = np.sum(similarities[column.notna()])\n",
    "        if self.deviation_from_mean:\n",
    "            user_means = pd.merge(self.user_means, similarities[column.notna()], left_index=True, right_index=True, how='inner')\n",
    "            numerator = np.sum(column*similarities) - \\\n",
    "                (user_means['rating']*user_means['similarities']).sum()\n",
    "            return input_mean+numerator/denominator if denominator != 0 else np.nan\n",
    "        else:\n",
    "            numerator = np.sum(column*similarities)\n",
    "            return numerator/denominator if denominator != 0 else np.nan\n",
    "    \n",
    "    def get_scores(self, similarities: pd.Series, input_ratings: pd.DataFrame) -> pd.DataFrame:\n",
    "        relevant_ratings = pd.merge(self.ratings, similarities, left_on=[self.user_col], how='inner', right_index=True)\n",
    "        uii_matrix = relevant_ratings.pivot_table(\n",
    "          index=[self.user_col], \n",
    "          columns=[self.item_col], \n",
    "          values=\"rating\")\n",
    "        \n",
    "        predicted_scores = uii_matrix.apply(\n",
    "            lambda x: self.scoring(x, similarities, input_mean=input_ratings['rating'].mean()))\n",
    "        return predicted_scores"
   ]
  },
  {
   "cell_type": "code",
   "execution_count": 66,
   "metadata": {},
   "outputs": [],
   "source": [
    "def cf_experiment(\n",
    "    ratings: pd.DataFrame, \n",
    "    neighborhood_method: str='threshold',\n",
    "    correlation_method: str='pearson',\n",
    "    minimal_similarity: float=0.7,\n",
    "    number_of_neighbors: int=50,\n",
    "    minimum_number_of_books_rated_in_common: int=10,\n",
    "    minimal_number_of_ratings: int=5,\n",
    "    deviation_from_mean: bool=True,\n",
    "    number_of_runs: int=1):\n",
    "    kf = KFold(n_splits=num_users, shuffle=True, random_state=42)\n",
    "    kf.get_n_splits(user_ids)\n",
    "\n",
    "    coverage = []\n",
    "    mae = []\n",
    "\n",
    "    for i, (train_index, test_index) in enumerate(kf.split(user_ids)):\n",
    "        print(f\"Fold {i}:\")\n",
    "        train_user_ids, test_user_ids = user_ids[train_index], user_ids[test_index]\n",
    "        test_user_id = test_user_ids[0]\n",
    "        train_ratings, test_ratings = ratings[ratings.user_id.isin(train_user_ids)], \\\n",
    "                                        ratings[ratings.user_id.isin(test_user_ids)]\n",
    "        input_ratings, heldout_ratings = train_test_split(test_ratings, \n",
    "                                                          stratify=test_ratings.user_id, \n",
    "                                                          test_size=0.1, \n",
    "                                                          random_state=42)\n",
    "\n",
    "        cf = CollaborativeFilter(train_ratings,\n",
    "                                 neighborhood_method=neighborhood_method,\n",
    "                                 correlation_method=correlation_method,\n",
    "                                 minimal_similarity=minimal_similarity,\n",
    "                                 number_of_neighbors=number_of_neighbors,\n",
    "                                 minimum_number_of_books_rated_in_common=minimum_number_of_books_rated_in_common,\n",
    "                                 minimal_number_of_ratings=minimal_number_of_ratings,\n",
    "                                 deviation_from_mean=deviation_from_mean)\n",
    "        similarities = cf.get_similarities(input_ratings, test_user_id)\n",
    "        predicted_scores = cf.get_scores(similarities, input_ratings)\n",
    "    \n",
    "        predictions = heldout_ratings.merge(predicted_scores.rename('scores'), on='book_id', how='left')\n",
    "        coverage.append(1-predictions.scores.isna().sum()/len(predictions))\n",
    "        mae.append((predictions.rating-predictions.scores).abs().mean())\n",
    "\n",
    "        if i==number_of_runs-1:\n",
    "            break\n",
    "    return coverage, mae"
   ]
  },
  {
   "cell_type": "code",
   "execution_count": null,
   "metadata": {},
   "outputs": [
    {
     "name": "stdout",
     "output_type": "stream",
     "text": [
      "Fold 0:\n",
      "Fold 1:\n",
      "Fold 2:\n",
      "Fold 0:\n",
      "Fold 1:\n",
      "Fold 2:\n",
      "Fold 0:\n",
      "Fold 1:\n",
      "Fold 2:\n"
     ]
    }
   ],
   "source": [
    "coverages, maes = [], []\n",
    "minimal_similarities = np.linspace(0.3, 0.7, 3)\n",
    "for minimal_similarity in minimal_similarities:\n",
    "    coverage, mae = cf_experiment(\n",
    "    ratings=ratings, \n",
    "    neighborhood_method=NEIGHBORHOOD_METHOD,\n",
    "    correlation_method=CORRELATION_METHOD,\n",
    "    minimal_similarity=minimal_similarity,\n",
    "    number_of_neighbors=N_NEIGHBORS,\n",
    "    minimum_number_of_books_rated_in_common=MIN_N_CO_RATED,\n",
    "    minimal_number_of_ratings=MIN_N_RATINGS,\n",
    "    number_of_runs=N_RUNS,\n",
    "    deviation_from_mean=DEVIATION_FROM_MEAN)\n",
    "    coverages.append(coverage)\n",
    "    maes.append(mae)"
   ]
  },
  {
   "cell_type": "code",
   "execution_count": 66,
   "metadata": {},
   "outputs": [
    {
     "name": "stdout",
     "output_type": "stream",
     "text": [
      "Fold 0:\n",
      "CPU times: user 11.4 s, sys: 67.4 ms, total: 11.4 s\n",
      "Wall time: 11.4 s\n"
     ]
    }
   ],
   "source": [
    "# %time coverage, mae = collaborative_filter(ratings=ratings, minimum_number_of_books_rated_in_common=minimum_number_of_books_rated_in_common,minimal_similarity=minimal_similarity,minimal_number_of_ratings=minimal_number_of_ratings,number_of_runs=1)"
   ]
  },
  {
   "cell_type": "code",
   "execution_count": 14,
   "metadata": {},
   "outputs": [],
   "source": [
    "def pool_experiment(minimal_similarity):\n",
    "    return cf_experiment(\n",
    "    ratings=ratings, \n",
    "    minimum_number_of_books_rated_in_common=minimum_number_of_books_rated_in_common,\n",
    "    minimal_similarity=minimal_similarity,\n",
    "    minimal_number_of_ratings=minimal_number_of_ratings,\n",
    "    number_of_runs=number_of_runs)"
   ]
  },
  {
   "cell_type": "code",
   "execution_count": 18,
   "metadata": {},
   "outputs": [],
   "source": [
    "with ProcessPoolExecutor(max_workers=3) as executor:\n",
    "    results = executor.map(pool_experiment, minimal_similarities).result()"
   ]
  },
  {
   "cell_type": "code",
   "execution_count": null,
   "metadata": {},
   "outputs": [],
   "source": [
    "results"
   ]
  },
  {
   "cell_type": "code",
   "execution_count": null,
   "metadata": {},
   "outputs": [],
   "source": [
    "coverages = np.array(coverages)\n",
    "maes = np.array(maes)"
   ]
  },
  {
   "cell_type": "code",
   "execution_count": null,
   "metadata": {},
   "outputs": [],
   "source": [
    "fig = plt.figure()\n",
    "ax = fig.add_subplot(111)\n",
    "ax.errorbar(minimal_similarities, np.mean(maes, axis=1), xerr=0., yerr=np.var(maes, axis=1))\n",
    "plt.show()"
   ]
  },
  {
   "cell_type": "code",
   "execution_count": 69,
   "metadata": {},
   "outputs": [
    {
     "data": {
      "image/png": "[encoded data removed]",
      "text/plain": [
       "<Figure size 640x480 with 1 Axes>"
      ]
     },
     "metadata": {},
     "output_type": "display_data"
    }
   ],
   "source": [
    "fig = plt.figure()\n",
    "ax = fig.add_subplot(111)\n",
    "ax.errorbar(minimal_similarities, np.mean(maes, axis=1), xerr=0., yerr=np.var(maes, axis=1))\n",
    "plt.show()"
   ]
  },
  {
   "cell_type": "code",
   "execution_count": 70,
   "metadata": {},
   "outputs": [
    {
     "data": {
      "image/png": "[encoded data removed]",
      "text/plain": [
       "<Figure size 640x480 with 1 Axes>"
      ]
     },
     "metadata": {},
     "output_type": "display_data"
    }
   ],
   "source": [
    "fig = plt.figure()\n",
    "ax = fig.add_subplot(111)\n",
    "ax.errorbar(minimal_similarities, np.mean(coverages, axis=1), xerr=0., yerr=np.var(coverages, axis=1))\n",
    "plt.show()"
   ]
  },
  {
   "cell_type": "code",
   "execution_count": null,
   "metadata": {},
   "outputs": [],
   "source": []
  }
 ],
 "metadata": {
  "kernelspec": {
   "display_name": "Python 3",
   "language": "python",
   "name": "python3"
  },
  "language_info": {
   "codemirror_mode": {
    "name": "ipython",
    "version": 3
   },
   "file_extension": ".py",
   "mimetype": "text/x-python",
   "name": "python",
   "nbconvert_exporter": "python",
   "pygments_lexer": "ipython3",
   "version": "3.7.6"
  }
 },
 "nbformat": 4,
 "nbformat_minor": 4
}
