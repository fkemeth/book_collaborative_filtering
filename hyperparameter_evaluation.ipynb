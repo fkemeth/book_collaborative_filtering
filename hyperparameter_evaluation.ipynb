{
 "cells": [
  {
   "cell_type": "code",
   "execution_count": 13,
   "metadata": {},
   "outputs": [],
   "source": [
    "import numpy as np\n",
    "import pandas as pd\n",
    "from pandas.core import nanops\n",
    "\n",
    "import matplotlib.pyplot as plt\n",
    "from sklearn.model_selection import KFold, train_test_split\n",
    "\n",
    "from concurrent.futures import ThreadPoolExecutor, ProcessPoolExecutor"
   ]
  },
  {
   "cell_type": "code",
   "execution_count": 2,
   "metadata": {},
   "outputs": [],
   "source": [
    "minimum_number_of_books_rated_in_common = 10\n",
    "minimal_similarity = 0.7\n",
    "minimal_number_of_ratings = 5\n",
    "number_of_runs = 2"
   ]
  },
  {
   "cell_type": "code",
   "execution_count": 3,
   "metadata": {},
   "outputs": [],
   "source": [
    "books = pd.read_csv(\"books.csv\")[[\"book_id\", \"title\", \"authors\"]]\n",
    "ratings = pd.read_csv(\"ratings.csv\")"
   ]
  },
  {
   "cell_type": "code",
   "execution_count": 4,
   "metadata": {},
   "outputs": [
    {
     "name": "stdout",
     "output_type": "stream",
     "text": [
      "Number of user: 53424\n"
     ]
    }
   ],
   "source": [
    "user_ids = ratings.user_id.unique()\n",
    "num_users = len(user_ids)\n",
    "print(f\"Number of user: {num_users}\")"
   ]
  },
  {
   "cell_type": "code",
   "execution_count": 5,
   "metadata": {},
   "outputs": [],
   "source": [
    "class CollaborativeFilter():\n",
    "    def __init__(self, ratings: pd.DataFrame, user_col: str=\"user_id\", item_col: str=\"book_id\") -> None:\n",
    "        self.ratings = ratings\n",
    "        self.user_col = user_col\n",
    "        self.item_col = item_col\n",
    "        \n",
    "    def get_similarities(self, input_ratings: pd.DataFrame, user_id: int, minimum_number_of_books_rated_in_common: int, minimal_similarity: float) -> pd.DataFrame:\n",
    "        ratings = pd.concat([self.ratings, input_ratings])\n",
    "        relevant_ratings = pd.merge(ratings, input_ratings[self.item_col], on=[self.item_col], how='inner')\n",
    "        uii_matrix = relevant_ratings.pivot_table(\n",
    "          index=[self.user_col], \n",
    "          columns=[self.item_col], \n",
    "          values=\"rating\")\n",
    "\n",
    "        similarities = uii_matrix.corrwith(\n",
    "            uii_matrix.loc[user_id], \n",
    "            axis=1, \n",
    "            method=lambda x,y: nanops.nancorr(x, y, min_periods=minimum_number_of_books_rated_in_common))\n",
    "        \n",
    "        # Remove self similarity\n",
    "        similarities[user_id] = np.nan\n",
    "        similarities = similarities.dropna()\n",
    "        \n",
    "        # Consider those users with at least a similarity of minimal_similarity\n",
    "        similarities = similarities[similarities>minimal_similarity]\n",
    "        similarities.name = 'similarities'\n",
    "        return similarities\n",
    "    \n",
    "    def scoring(self, column, similarities: pd.Series, minimal_number_of_ratings: int) -> float:\n",
    "        # If book has been rated less than minimal_number_of_ratings, set its score to nan\n",
    "        if column.notna().sum() <= minimal_number_of_ratings:\n",
    "            return np.nan\n",
    "        \n",
    "        # Calculate weighted mean of ratings as scores\n",
    "        numerator = np.sum(column*similarities)\n",
    "        denominator = np.sum(similarities[column.notna()])\n",
    "        return numerator/denominator if denominator != 0 else np.nan\n",
    "    \n",
    "    def get_scores(self, similarities: pd.Series, minimal_number_of_ratings: int):\n",
    "        relevant_ratings = pd.merge(self.ratings, similarities, left_on=[self.user_col], how='inner', right_index=True)\n",
    "        uii_matrix = relevant_ratings.pivot_table(\n",
    "          index=[self.user_col], \n",
    "          columns=[self.item_col], \n",
    "          values=\"rating\")\n",
    "\n",
    "        predicted_scores = uii_matrix.apply(\n",
    "            lambda x: self.scoring(x, similarities, minimal_number_of_ratings))\n",
    "        return predicted_scores"
   ]
  },
  {
   "cell_type": "code",
   "execution_count": 6,
   "metadata": {},
   "outputs": [],
   "source": [
    "def cf_experiment(\n",
    "    ratings: pd.DataFrame, \n",
    "    minimum_number_of_books_rated_in_common: int,\n",
    "    minimal_similarity: int,\n",
    "    minimal_number_of_ratings: int,\n",
    "    number_of_runs: int):\n",
    "    kf = KFold(n_splits=num_users, shuffle=True, random_state=42)\n",
    "    kf.get_n_splits(user_ids)\n",
    "\n",
    "    coverage = []\n",
    "    mae = []\n",
    "\n",
    "    for i, (train_index, test_index) in enumerate(kf.split(user_ids)):\n",
    "        print(f\"Fold {i}:\")\n",
    "        train_user_ids, test_user_ids = user_ids[train_index], user_ids[test_index]\n",
    "        test_user_id = test_user_ids[0]\n",
    "        train_ratings, test_ratings = ratings[ratings.user_id.isin(train_user_ids)], \\\n",
    "                                        ratings[ratings.user_id.isin(test_user_ids)]\n",
    "        input_ratings, heldout_ratings = train_test_split(test_ratings, \n",
    "                                                          stratify=test_ratings.user_id, \n",
    "                                                          test_size=0.1, \n",
    "                                                          random_state=42)\n",
    "\n",
    "        cf = CollaborativeFilter(train_ratings)\n",
    "        similarities = cf.get_similarities(input_ratings, test_user_id, minimum_number_of_books_rated_in_common, minimal_similarity)\n",
    "        predicted_scores = cf.get_scores(similarities, minimal_number_of_ratings)\n",
    "    \n",
    "        predictions = heldout_ratings.merge(predicted_scores.rename('scores'), on='book_id', how='left')\n",
    "        coverage.append(1-predictions.scores.isna().sum()/len(predictions))\n",
    "        mae.append((predictions.rating-predictions.scores).abs().mean())\n",
    "\n",
    "        if i==number_of_runs-1:\n",
    "            break\n",
    "    return coverage, mae"
   ]
  },
  {
   "cell_type": "code",
   "execution_count": 7,
   "metadata": {},
   "outputs": [
    {
     "name": "stdout",
     "output_type": "stream",
     "text": [
      "Fold 0:\n",
      "Fold 1:\n",
      "Fold 0:\n",
      "Fold 1:\n",
      "Fold 0:\n",
      "Fold 1:\n"
     ]
    }
   ],
   "source": [
    "coverages, maes = [], []\n",
    "minimal_similarities = np.linspace(0.3, 0.7, 3)\n",
    "for minimal_similarity in minimal_similarities:\n",
    "    coverage, mae = cf_experiment(\n",
    "    ratings=ratings, \n",
    "    minimum_number_of_books_rated_in_common=minimum_number_of_books_rated_in_common,\n",
    "    minimal_similarity=minimal_similarity,\n",
    "    minimal_number_of_ratings=minimal_number_of_ratings,\n",
    "    number_of_runs=number_of_runs)\n",
    "    coverages.append(coverage)\n",
    "    maes.append(mae)"
   ]
  },
  {
   "cell_type": "code",
   "execution_count": 66,
   "metadata": {},
   "outputs": [
    {
     "name": "stdout",
     "output_type": "stream",
     "text": [
      "Fold 0:\n",
      "CPU times: user 11.4 s, sys: 67.4 ms, total: 11.4 s\n",
      "Wall time: 11.4 s\n"
     ]
    }
   ],
   "source": [
    "# %time coverage, mae = collaborative_filter(ratings=ratings, minimum_number_of_books_rated_in_common=minimum_number_of_books_rated_in_common,minimal_similarity=minimal_similarity,minimal_number_of_ratings=minimal_number_of_ratings,number_of_runs=1)"
   ]
  },
  {
   "cell_type": "code",
   "execution_count": 14,
   "metadata": {},
   "outputs": [],
   "source": [
    "def pool_experiment(minimal_similarity):\n",
    "    return cf_experiment(\n",
    "    ratings=ratings, \n",
    "    minimum_number_of_books_rated_in_common=minimum_number_of_books_rated_in_common,\n",
    "    minimal_similarity=minimal_similarity,\n",
    "    minimal_number_of_ratings=minimal_number_of_ratings,\n",
    "    number_of_runs=number_of_runs)"
   ]
  },
  {
   "cell_type": "code",
   "execution_count": 18,
   "metadata": {},
   "outputs": [],
   "source": [
    "with ProcessPoolExecutor(max_workers=3) as executor:\n",
    "    results = executor.map(pool_experiment, minimal_similarities).result()"
   ]
  },
  {
   "cell_type": "code",
   "execution_count": null,
   "metadata": {},
   "outputs": [],
   "source": [
    "results"
   ]
  },
  {
   "cell_type": "code",
   "execution_count": 8,
   "metadata": {},
   "outputs": [],
   "source": [
    "coverages = np.array(coverages)\n",
    "maes = np.array(maes)"
   ]
  },
  {
   "cell_type": "code",
   "execution_count": 9,
   "metadata": {},
   "outputs": [
    {
     "data": {
      "image/png": "[encoded data removed]",
      "text/plain": [
       "<Figure size 640x480 with 1 Axes>"
      ]
     },
     "metadata": {},
     "output_type": "display_data"
    }
   ],
   "source": [
    "fig = plt.figure()\n",
    "ax = fig.add_subplot(111)\n",
    "ax.errorbar(minimal_similarities, np.mean(maes, axis=1), xerr=0., yerr=np.var(maes, axis=1))\n",
    "plt.show()"
   ]
  },
  {
   "cell_type": "code",
   "execution_count": 10,
   "metadata": {},
   "outputs": [
    {
     "data": {
      "image/png": "[encoded data removed]",
      "text/plain": [
       "<Figure size 640x480 with 1 Axes>"
      ]
     },
     "metadata": {},
     "output_type": "display_data"
    }
   ],
   "source": [
    "fig = plt.figure()\n",
    "ax = fig.add_subplot(111)\n",
    "ax.errorbar(minimal_similarities, np.mean(coverages, axis=1), xerr=0., yerr=np.var(coverages, axis=1))\n",
    "plt.show()"
   ]
  },
  {
   "cell_type": "code",
   "execution_count": null,
   "metadata": {},
   "outputs": [],
   "source": []
  }
 ],
 "metadata": {
  "kernelspec": {
   "display_name": "Python 3",
   "language": "python",
   "name": "python3"
  },
  "language_info": {
   "codemirror_mode": {
    "name": "ipython",
    "version": 3
   },
   "file_extension": ".py",
   "mimetype": "text/x-python",
   "name": "python",
   "nbconvert_exporter": "python",
   "pygments_lexer": "ipython3",
   "version": "3.7.6"
  }
 },
 "nbformat": 4,
 "nbformat_minor": 4
}
