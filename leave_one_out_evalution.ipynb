{
 "cells": [
  {
   "cell_type": "code",
   "execution_count": 15,
   "metadata": {},
   "outputs": [],
   "source": [
    "import numpy as np\n",
    "import pandas as pd\n",
    "\n",
    "import matplotlib.pyplot as plt\n",
    "\n",
    "from multiprocessing import Pool\n",
    "from sklearn.model_selection import KFold, train_test_split"
   ]
  },
  {
   "cell_type": "code",
   "execution_count": 16,
   "metadata": {},
   "outputs": [],
   "source": [
    "minimum_number_of_books_rated_in_common = 10\n",
    "minimal_similarity = 0.7\n",
    "minimal_number_of_ratings = 5\n",
    "number_of_runs = 2"
   ]
  },
  {
   "cell_type": "code",
   "execution_count": 17,
   "metadata": {},
   "outputs": [],
   "source": [
    "books = pd.read_csv(\"books.csv\")[[\"book_id\", \"title\", \"authors\"]]\n",
    "ratings = pd.read_csv(\"ratings.csv\")"
   ]
  },
  {
   "cell_type": "code",
   "execution_count": 18,
   "metadata": {},
   "outputs": [
    {
     "name": "stdout",
     "output_type": "stream",
     "text": [
      "Number of user: 53424\n"
     ]
    }
   ],
   "source": [
    "user_ids = ratings.user_id.unique()\n",
    "num_users = len(user_ids)\n",
    "print(f\"Number of user: {num_users}\")"
   ]
  },
  {
   "cell_type": "code",
   "execution_count": 32,
   "metadata": {},
   "outputs": [],
   "source": [
    "class CollaborativeFilter():\n",
    "    def __init__(self, ratings: pd.DataFrame, user_col: str=\"user_id\", item_col: str=\"book_id\") -> None:\n",
    "        self.ratings = ratings\n",
    "        self.user_col = user_col\n",
    "        self.item_col = item_col\n",
    "        \n",
    "    def get_similarities(self, input_ratings: pd.DataFrame, user_id: int, minimum_number_of_books_rated_in_common: int) -> pd.DataFrame:\n",
    "        ratings = pd.concat([self.ratings, input_ratings])\n",
    "        relevant_ratings = pd.merge(ratings, input_ratings[self.item_col], on=[self.item_col], how='inner')\n",
    "        uii_matrix = relevant_ratings.pivot_table(\n",
    "          index=[self.user_col], \n",
    "          columns=[self.item_col], \n",
    "          values=\"rating\").fillna(np.nan)\n",
    "\n",
    "        similarities = uii_matrix.corrwith(uii_matrix.loc[user_id], axis=1)\n",
    "\n",
    "        # Only use those which have an intersection of more than n books\n",
    "        user_books_read = uii_matrix.loc[user_id].notna()\n",
    "        intersections = uii_matrix.apply(lambda x: (x.notna() & user_books_read).sum(), axis=1)\n",
    "        similarities[intersections < minimum_number_of_books_rated_in_common] = np.nan\n",
    "\n",
    "        # Remove self similarity\n",
    "        similarities[user_id] = np.nan\n",
    "        similarities = similarities[~similarities.isna()]\n",
    "        similarities.name = 'similarities'\n",
    "        return similarities\n",
    "    \n",
    "    def scoring(self, column, similarities: pd.Series, minimal_similarity: float, minimal_number_of_ratings: int) -> float:\n",
    "        # Consider those users with at least a similarity of minimal_similarity\n",
    "        neighbours = similarities > minimal_similarity\n",
    "        # Calculate weighted mean of ratings as scores\n",
    "        numerator = np.sum(column[neighbours]*similarities[neighbours])\n",
    "        denominator = np.sum(similarities[neighbours][column[neighbours].notna()])\n",
    "        predicted_rating = numerator/denominator if denominator != 0 else np.nan\n",
    "\n",
    "        # If book has been rated less than minimal_number_of_ratings, set its score to nan\n",
    "        if column[neighbours].notna().sum() <= minimal_number_of_ratings:\n",
    "            predicted_rating = np.nan\n",
    "        return predicted_rating\n",
    "    \n",
    "    def get_scores(self, similarities: pd.Series, minimal_similarity: float, minimal_number_of_ratings: int):\n",
    "        relevant_ratings = pd.merge(self.ratings, similarities, left_on=[self.user_col], how='inner', right_index=True)\n",
    "        uii_matrix = relevant_ratings.pivot_table(\n",
    "          index=[self.user_col], \n",
    "          columns=[self.item_col], \n",
    "          values=\"rating\").fillna(np.nan)\n",
    "\n",
    "        predicted_scores = uii_matrix.apply(\n",
    "            lambda x: self.scoring(x, similarities, minimal_similarity, minimal_number_of_ratings))\n",
    "        return predicted_scores"
   ]
  },
  {
   "cell_type": "code",
   "execution_count": 33,
   "metadata": {},
   "outputs": [
    {
     "name": "stdout",
     "output_type": "stream",
     "text": [
      "Fold 0:\n"
     ]
    },
    {
     "name": "stderr",
     "output_type": "stream",
     "text": [
      "/home/felix/anaconda3/lib/python3.7/site-packages/numpy/lib/function_base.py:2526: RuntimeWarning: Degrees of freedom <= 0 for slice\n",
      "  c = cov(x, y, rowvar)\n",
      "/home/felix/anaconda3/lib/python3.7/site-packages/numpy/lib/function_base.py:2455: RuntimeWarning: divide by zero encountered in true_divide\n",
      "  c *= np.true_divide(1, fact)\n"
     ]
    },
    {
     "name": "stdout",
     "output_type": "stream",
     "text": [
      "Fold 1:\n"
     ]
    },
    {
     "name": "stderr",
     "output_type": "stream",
     "text": [
      "/home/felix/anaconda3/lib/python3.7/site-packages/numpy/lib/function_base.py:2526: RuntimeWarning: Degrees of freedom <= 0 for slice\n",
      "  c = cov(x, y, rowvar)\n",
      "/home/felix/anaconda3/lib/python3.7/site-packages/numpy/lib/function_base.py:2455: RuntimeWarning: divide by zero encountered in true_divide\n",
      "  c *= np.true_divide(1, fact)\n"
     ]
    }
   ],
   "source": [
    "kf = KFold(n_splits=num_users, shuffle=True, random_state=42)\n",
    "kf.get_n_splits(user_ids)\n",
    "\n",
    "coverage = []\n",
    "mae = []\n",
    "\n",
    "for i, (train_index, test_index) in enumerate(kf.split(user_ids)):\n",
    "    print(f\"Fold {i}:\")\n",
    "    # print(f\"  Train: index={train_index}\")\n",
    "    # print(f\"  Test:  index={test_index}\")  \n",
    "    train_user_ids, test_user_ids = user_ids[train_index], user_ids[test_index]\n",
    "    test_user_id = test_user_ids[0]\n",
    "    train_ratings, test_ratings = ratings[ratings.user_id.isin(train_user_ids)], \\\n",
    "                                    ratings[ratings.user_id.isin(test_user_ids)]\n",
    "    input_ratings, heldout_ratings = train_test_split(test_ratings, \n",
    "                                                      stratify=test_ratings.user_id, \n",
    "                                                      test_size=0.1, \n",
    "                                                      random_state=42)\n",
    "    \n",
    "    train_ratings = pd.concat([train_ratings, input_ratings])\n",
    "\n",
    "    cf = CollaborativeFilter(train_ratings)\n",
    "    similarities = cf.get_similarities(input_ratings, test_user_id, minimum_number_of_books_rated_in_common)\n",
    "    predicted_scores = cf.get_scores(similarities, minimal_similarity, minimal_number_of_ratings)\n",
    "    \n",
    "    true_scores = heldout_ratings[heldout_ratings.user_id==test_user_id]\n",
    "    predictions = true_scores.merge(predicted_scores.rename('scores'), on='book_id', how='left')\n",
    "    coverage.append(1-predictions.scores.isna().sum()/len(predictions))\n",
    "    mae.append((predictions.rating-predictions.scores).abs().mean())\n",
    "    \n",
    "    if i==number_of_runs-1:\n",
    "        break"
   ]
  },
  {
   "cell_type": "code",
   "execution_count": 31,
   "metadata": {},
   "outputs": [],
   "source": [
    "predicted_scores"
   ]
  },
  {
   "cell_type": "code",
   "execution_count": 31,
   "metadata": {},
   "outputs": [
    {
     "data": {
      "text/plain": [
       "0.5242812742812742"
      ]
     },
     "execution_count": 31,
     "metadata": {},
     "output_type": "execute_result"
    }
   ],
   "source": [
    "np.mean(coverage)"
   ]
  },
  {
   "cell_type": "code",
   "execution_count": 4,
   "metadata": {},
   "outputs": [
    {
     "name": "stderr",
     "output_type": "stream",
     "text": [
      "/home/felix/anaconda3/lib/python3.7/site-packages/numpy/lib/function_base.py:2526: RuntimeWarning: Degrees of freedom <= 0 for slice\n",
      "  c = cov(x, y, rowvar)\n",
      "/home/felix/anaconda3/lib/python3.7/site-packages/numpy/lib/function_base.py:2455: RuntimeWarning: divide by zero encountered in true_divide\n",
      "  c *= np.true_divide(1, fact)\n"
     ]
    }
   ],
   "source": []
  },
  {
   "cell_type": "code",
   "execution_count": 5,
   "metadata": {},
   "outputs": [],
   "source": [
    "minimum_number_of_books_rated_in_common = 10\n",
    "\n",
    "# Only use those which have an intersection of more than n books\n",
    "my_books_read = uii_matrix.loc[my_user_id].notna()\n",
    "intersections = uii_matrix.apply(lambda x: (x.notna() & my_books_read).sum(), axis=1)\n",
    "similarities[intersections < minimum_number_of_books_rated_in_common] = np.nan\n",
    "\n",
    "# Remove self similarity\n",
    "similarities[my_user_id] = np.nan"
   ]
  },
  {
   "cell_type": "code",
   "execution_count": 6,
   "metadata": {},
   "outputs": [
    {
     "name": "stdout",
     "output_type": "stream",
     "text": [
      "title\n",
      "Lonesome Dove                                                                  4.884893\n",
      "Ahab's Wife, or The Star-Gazer                                                 4.852697\n",
      "Someone Knows My Name                                                          4.844823\n",
      "The Diving Bell and the Butterfly                                              4.828780\n",
      "The Nightingale                                                                4.821673\n",
      "A Storm of Swords: Blood and Gold (A Song of Ice and Fire, #3: Part 2 of 2)    4.810564\n",
      "The Power of One (The Power of One, #1)                                        4.778453\n",
      "The Book of Mormon: Another Testament of Jesus Christ                          4.777642\n",
      "The Complete Maus (Maus, #1-2)                                                 4.772905\n",
      "Maus I: A Survivor's Tale: My Father Bleeds History (Maus, #1)                 4.745223\n",
      "dtype: float64\n"
     ]
    }
   ],
   "source": [
    "minimal_similarity = 0.7\n",
    "minimal_number_of_ratings = 5\n",
    "\n",
    "def scoring(column):\n",
    "    # Consider those users with at least a similarity of minimal_similarity\n",
    "    neighbours = similarities > minimal_similarity\n",
    "    # Calculate weighted mean of ratings as scores\n",
    "    numerator = np.sum(column[neighbours]*similarities[neighbours])\n",
    "    denominator = np.sum(similarities[neighbours][column[neighbours].notna()])\n",
    "    predicted_rating = numerator/denominator if denominator != 0 else np.nan\n",
    "\n",
    "    # If book has been rated less than minimal_number_of_ratings, set its score to nan\n",
    "    if column[neighbours].notna().sum() <= minimal_number_of_ratings:\n",
    "        predicted_rating = np.nan\n",
    "    return predicted_rating\n",
    "\n",
    "scores = uii_matrix.apply(lambda x: scoring(x))\n",
    "\n",
    "# Print only recommendations of books I haven't read:\n",
    "print(scores[~my_books_read].sort_values(ascending=False)[:10])"
   ]
  },
  {
   "cell_type": "code",
   "execution_count": null,
   "metadata": {},
   "outputs": [],
   "source": []
  }
 ],
 "metadata": {
  "kernelspec": {
   "display_name": "Python 3",
   "language": "python",
   "name": "python3"
  },
  "language_info": {
   "codemirror_mode": {
    "name": "ipython",
    "version": 3
   },
   "file_extension": ".py",
   "mimetype": "text/x-python",
   "name": "python",
   "nbconvert_exporter": "python",
   "pygments_lexer": "ipython3",
   "version": "3.7.6"
  }
 },
 "nbformat": 4,
 "nbformat_minor": 4
}
