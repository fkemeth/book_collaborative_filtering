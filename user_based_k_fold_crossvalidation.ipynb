{
 "cells": [
  {
   "cell_type": "code",
   "execution_count": 2,
   "metadata": {},
   "outputs": [],
   "source": [
    "import numpy as np\n",
    "import pandas as pd\n",
    "\n",
    "from multiprocessing import Pool\n",
    "\n",
    "from sklearn.model_selection import KFold, train_test_split\n",
    "books = pd.read_csv(\"books.csv\")[[\"book_id\", \"title\", \"authors\"]]\n",
    "ratings = pd.read_csv(\"ratings.csv\")"
   ]
  },
  {
   "cell_type": "code",
   "execution_count": 3,
   "metadata": {},
   "outputs": [],
   "source": [
    "minimum_number_of_books_rated_in_common = 10"
   ]
  },
  {
   "cell_type": "code",
   "execution_count": 4,
   "metadata": {},
   "outputs": [
    {
     "data": {
      "text/html": [
       "<div>\n",
       "<style scoped>\n",
       "    .dataframe tbody tr th:only-of-type {\n",
       "        vertical-align: middle;\n",
       "    }\n",
       "\n",
       "    .dataframe tbody tr th {\n",
       "        vertical-align: top;\n",
       "    }\n",
       "\n",
       "    .dataframe thead th {\n",
       "        text-align: right;\n",
       "    }\n",
       "</style>\n",
       "<table border=\"1\" class=\"dataframe\">\n",
       "  <thead>\n",
       "    <tr style=\"text-align: right;\">\n",
       "      <th></th>\n",
       "      <th>user_id</th>\n",
       "      <th>book_id</th>\n",
       "      <th>rating</th>\n",
       "    </tr>\n",
       "  </thead>\n",
       "  <tbody>\n",
       "    <tr>\n",
       "      <th>0</th>\n",
       "      <td>1</td>\n",
       "      <td>258</td>\n",
       "      <td>5</td>\n",
       "    </tr>\n",
       "    <tr>\n",
       "      <th>1</th>\n",
       "      <td>2</td>\n",
       "      <td>4081</td>\n",
       "      <td>4</td>\n",
       "    </tr>\n",
       "    <tr>\n",
       "      <th>2</th>\n",
       "      <td>2</td>\n",
       "      <td>260</td>\n",
       "      <td>5</td>\n",
       "    </tr>\n",
       "    <tr>\n",
       "      <th>3</th>\n",
       "      <td>2</td>\n",
       "      <td>9296</td>\n",
       "      <td>5</td>\n",
       "    </tr>\n",
       "    <tr>\n",
       "      <th>4</th>\n",
       "      <td>2</td>\n",
       "      <td>2318</td>\n",
       "      <td>3</td>\n",
       "    </tr>\n",
       "  </tbody>\n",
       "</table>\n",
       "</div>"
      ],
      "text/plain": [
       "   user_id  book_id  rating\n",
       "0        1      258       5\n",
       "1        2     4081       4\n",
       "2        2      260       5\n",
       "3        2     9296       5\n",
       "4        2     2318       3"
      ]
     },
     "execution_count": 4,
     "metadata": {},
     "output_type": "execute_result"
    }
   ],
   "source": [
    "ratings.head()"
   ]
  },
  {
   "cell_type": "code",
   "execution_count": 5,
   "metadata": {},
   "outputs": [
    {
     "data": {
      "text/plain": [
       "19"
      ]
     },
     "execution_count": 5,
     "metadata": {},
     "output_type": "execute_result"
    }
   ],
   "source": [
    "ratings.user_id.value_counts().min()"
   ]
  },
  {
   "cell_type": "code",
   "execution_count": 6,
   "metadata": {},
   "outputs": [
    {
     "name": "stdout",
     "output_type": "stream",
     "text": [
      "Number of user: 53424\n"
     ]
    }
   ],
   "source": [
    "user_ids = ratings.user_id.unique()\n",
    "# np.random.seed(42)\n",
    "# np.random.shuffle(user_ids)\n",
    "print(f\"Number of user: {len(user_ids)}\")"
   ]
  },
  {
   "cell_type": "code",
   "execution_count": 7,
   "metadata": {},
   "outputs": [],
   "source": [
    "def scoring(column):\n",
    "    # Consider those users with at least a similarity of minimal_similarity\n",
    "    neighbours = similarities > minimal_similarity\n",
    "    # Calculate weighted mean of ratings as scores\n",
    "    numerator = np.sum(column[neighbours]*similarities[neighbours])\n",
    "    denominator = np.sum(similarities[neighbours][column[neighbours].notna()])\n",
    "    predicted_rating = numerator/denominator if denominator != 0 else np.nan\n",
    "\n",
    "    # If book has been rated less than minimal_number_of_ratings, set its score to nan\n",
    "    if column[neighbours].notna().sum() <= minimal_number_of_ratings:\n",
    "        predicted_rating = np.nan\n",
    "    return predicted_rating"
   ]
  },
  {
   "cell_type": "code",
   "execution_count": 15,
   "metadata": {},
   "outputs": [],
   "source": [
    "class CollaborativeFilter():\n",
    "    def __init__(self, ratings: pd.DataFrame, user_col: str=\"user_id\", item_col: str=\"book_id\") -> None:\n",
    "        self.ratings = ratings\n",
    "        self.user_col = user_col\n",
    "        self.item_col = item_col\n",
    "        \n",
    "    def pairwise_correlation(self, A, B):\n",
    "        am = A - np.mean(A, axis=0, keepdims=True)\n",
    "        bm = B - np.mean(B, axis=0, keepdims=True)\n",
    "        return am.T @ bm /  (np.sqrt(\n",
    "            np.sum(am**2, axis=0, keepdims=True)).T * np.sqrt(np.sum(bm**2, axis=0, keepdims=True)))\n",
    "        \n",
    "    def get_similarities(self, input_ratings: pd.DataFrame) -> pd.DataFrame:\n",
    "        relevant_ratings = pd.merge(self.ratings, input_ratings[self.item_col], on=self.item_col, how='inner')\n",
    "        user_id = input_ratings[self.user_col].unique()[0]\n",
    "        relevant_ratings = pd.concat([relevant_ratings[relevant_ratings[self.user_col]!=user_id], input_ratings])\n",
    "        uii_matrix = relevant_ratings.pivot_table(\n",
    "           index=[self.user_col], \n",
    "           columns=[self.item_col], \n",
    "           values=\"rating\").fillna(np.nan)\n",
    "        # return uii_matrix.apply(\n",
    "            # lambda x: self.pairwise_correlation(x.values, uii_matrix.loc[user_id].values), axis=1)\n",
    "        \n",
    "        # return self.pairwise_correlation(uii_matrix.values.T, uii_matrix.loc[user_id].values.T)\n",
    "        return uii_matrix\n",
    "        \n",
    "    def get_similarities_old(self, input_ratings: pd.DataFrame) -> pd.DataFrame:\n",
    "        relevant_ratings = pd.merge(self.ratings, input_ratings[self.item_col], on=self.item_col, how='inner')\n",
    "        user_id = input_ratings[self.user_col].unique()[0]\n",
    "        relevant_ratings = pd.concat([relevant_ratings[relevant_ratings[self.user_col]!=user_id], input_ratings])\n",
    "        uii_matrix = relevant_ratings.pivot_table(\n",
    "           index=[self.user_col], \n",
    "           columns=[self.item_col], \n",
    "           values=\"rating\").fillna(np.nan)\n",
    "        return uii_matrix.corrwith(uii_matrix.loc[user_id], axis=1)"
   ]
  },
  {
   "cell_type": "code",
   "execution_count": 9,
   "metadata": {},
   "outputs": [
    {
     "name": "stdout",
     "output_type": "stream",
     "text": [
      "KFold(n_splits=8, random_state=42, shuffle=True)\n",
      "Fold 0:\n",
      "  Train: index=[    0     1     2 ... 53421 53422 53423]\n",
      "  Test:  index=[    4     6    34 ... 53397 53400 53412]\n"
     ]
    },
    {
     "ename": "NameError",
     "evalue": "name 'uii_matrix' is not defined",
     "output_type": "error",
     "traceback": [
      "\u001b[0;31m---------------------------------------------------------------------------\u001b[0m",
      "\u001b[0;31mNameError\u001b[0m                                 Traceback (most recent call last)",
      "\u001b[0;32m<ipython-input-9-c76e76ba80b7>\u001b[0m in \u001b[0;36m<module>\u001b[0;34m\u001b[0m\n\u001b[1;32m     39\u001b[0m         \u001b[0mminimal_number_of_ratings\u001b[0m \u001b[0;34m=\u001b[0m \u001b[0;36m5\u001b[0m\u001b[0;34m\u001b[0m\u001b[0;34m\u001b[0m\u001b[0m\n\u001b[1;32m     40\u001b[0m \u001b[0;34m\u001b[0m\u001b[0m\n\u001b[0;32m---> 41\u001b[0;31m         \u001b[0mpredicted_scores\u001b[0m \u001b[0;34m=\u001b[0m \u001b[0muii_matrix\u001b[0m\u001b[0;34m.\u001b[0m\u001b[0mapply\u001b[0m\u001b[0;34m(\u001b[0m\u001b[0;32mlambda\u001b[0m \u001b[0mx\u001b[0m\u001b[0;34m:\u001b[0m \u001b[0mscoring\u001b[0m\u001b[0;34m(\u001b[0m\u001b[0mx\u001b[0m\u001b[0;34m)\u001b[0m\u001b[0;34m)\u001b[0m\u001b[0;34m\u001b[0m\u001b[0;34m\u001b[0m\u001b[0m\n\u001b[0m\u001b[1;32m     42\u001b[0m         \u001b[0mtrue_scores\u001b[0m \u001b[0;34m=\u001b[0m \u001b[0mheldout_ratings\u001b[0m\u001b[0;34m[\u001b[0m\u001b[0mheldout_ratings\u001b[0m\u001b[0;34m.\u001b[0m\u001b[0muser_id\u001b[0m\u001b[0;34m==\u001b[0m\u001b[0muser_id\u001b[0m\u001b[0;34m]\u001b[0m\u001b[0;34m\u001b[0m\u001b[0;34m\u001b[0m\u001b[0m\n\u001b[1;32m     43\u001b[0m         \u001b[0mpredictions\u001b[0m \u001b[0;34m=\u001b[0m \u001b[0mtrue_scores\u001b[0m\u001b[0;34m.\u001b[0m\u001b[0mmerge\u001b[0m\u001b[0;34m(\u001b[0m\u001b[0mpredicted_scores\u001b[0m\u001b[0;34m.\u001b[0m\u001b[0mrename\u001b[0m\u001b[0;34m(\u001b[0m\u001b[0;34m'scores'\u001b[0m\u001b[0;34m)\u001b[0m\u001b[0;34m,\u001b[0m \u001b[0mon\u001b[0m\u001b[0;34m=\u001b[0m\u001b[0;34m'book_id'\u001b[0m\u001b[0;34m,\u001b[0m \u001b[0mhow\u001b[0m\u001b[0;34m=\u001b[0m\u001b[0;34m'left'\u001b[0m\u001b[0;34m)\u001b[0m\u001b[0;34m\u001b[0m\u001b[0;34m\u001b[0m\u001b[0m\n",
      "\u001b[0;31mNameError\u001b[0m: name 'uii_matrix' is not defined"
     ]
    }
   ],
   "source": [
    "K=8\n",
    "kf = KFold(n_splits=K, shuffle=True, random_state=42)\n",
    "kf.get_n_splits(user_ids)\n",
    "print(kf)\n",
    "for i, (train_index, test_index) in enumerate(kf.split(user_ids)):\n",
    "    print(f\"Fold {i}:\")\n",
    "    print(f\"  Train: index={train_index}\")\n",
    "    print(f\"  Test:  index={test_index}\")\n",
    "    train_user_ids, test_user_ids = user_ids[train_index], user_ids[test_index]\n",
    "    train_ratings, test_ratings = ratings[ratings.user_id.isin(train_user_ids)], \\\n",
    "                                    ratings[ratings.user_id.isin(test_user_ids)]\n",
    "    input_ratings, heldout_ratings = train_test_split(test_ratings, \n",
    "                                                      stratify=test_ratings.user_id, \n",
    "                                                      test_size=0.1, \n",
    "                                                      random_state=42)\n",
    "    cf = CollaborativeFilter(train_ratings)\n",
    "    \n",
    "    # train_ratings = pd.concat([train_ratings, input_ratings])\n",
    "    # uii_matrix = train_ratings.pivot_table(\n",
    "    #   index=[\"user_id\"], \n",
    "    #   columns=[\"book_id\"], \n",
    "    #   values=\"rating\").fillna(np.nan)\n",
    "    # similarities = uii_matrix.corr(min_periods=minimum_number_of_books_rated_in_common)\n",
    "    mae = 0\n",
    "    coverage = 0\n",
    "    for user_id in test_user_ids[:1]:\n",
    "        similarities = cf.get_similarities(input_ratings[input_ratings.user_id==user_id])\n",
    "        \n",
    "        # minimum_number_of_books_rated_in_common = 10\n",
    "        # # Only use those which have an intersection of more than n books\n",
    "        # my_books_read = uii_matrix.loc[user_id].notna()\n",
    "        # intersections = uii_matrix.apply(lambda x: (x.notna() & my_books_read).sum(), axis=1)\n",
    "        # similarities[intersections < minimum_number_of_books_rated_in_common] = np.nan\n",
    "\n",
    "        # # Remove self similarity\n",
    "        # similarities[user_id] = np.nan\n",
    "\n",
    "        minimal_similarity = 0.7\n",
    "        minimal_number_of_ratings = 5\n",
    "\n",
    "        predicted_scores = uii_matrix.apply(lambda x: scoring(x))\n",
    "        true_scores = heldout_ratings[heldout_ratings.user_id==user_id]\n",
    "        predictions = true_scores.merge(predicted_scores.rename('scores'), on='book_id', how='left')\n",
    "        coverage += 1-predictions.scores.isna().sum()/len(predictions)\n",
    "        mae += (predictions.rating-predictions.scores).abs().mean()\n",
    "    coverage /= len(test_user_ids)\n",
    "    mae /= len(test_user_ids)\n",
    "        \n",
    "        \n",
    "    if i==0:\n",
    "        break"
   ]
  },
  {
   "cell_type": "code",
   "execution_count": 16,
   "metadata": {},
   "outputs": [],
   "source": [
    "cf = CollaborativeFilter(train_ratings)"
   ]
  },
  {
   "cell_type": "code",
   "execution_count": 17,
   "metadata": {},
   "outputs": [],
   "source": [
    "uii = cf.get_similarities(input_ratings[input_ratings.user_id==user_id])"
   ]
  },
  {
   "cell_type": "code",
   "execution_count": 22,
   "metadata": {},
   "outputs": [
    {
     "data": {
      "text/plain": [
       "(38096, 88)"
      ]
     },
     "execution_count": 22,
     "metadata": {},
     "output_type": "execute_result"
    }
   ],
   "source": [
    "uii.values.shape"
   ]
  },
  {
   "cell_type": "code",
   "execution_count": 24,
   "metadata": {},
   "outputs": [
    {
     "data": {
      "text/plain": [
       "(88,)"
      ]
     },
     "execution_count": 24,
     "metadata": {},
     "output_type": "execute_result"
    }
   ],
   "source": [
    "uii.loc[user_id].values.shape"
   ]
  },
  {
   "cell_type": "code",
   "execution_count": 14,
   "metadata": {},
   "outputs": [
    {
     "data": {
      "text/plain": [
       "nan"
      ]
     },
     "execution_count": 14,
     "metadata": {},
     "output_type": "execute_result"
    }
   ],
   "source": [
    "similarities.min()"
   ]
  },
  {
   "cell_type": "code",
   "execution_count": null,
   "metadata": {},
   "outputs": [],
   "source": [
    "from time import time\n",
    "start_time = time()\n",
    "similarities = cf.get_similarities(input_ratings[input_ratings.user_id==user_id])\n",
    "print(time()-start_time)"
   ]
  },
  {
   "cell_type": "code",
   "execution_count": 73,
   "metadata": {},
   "outputs": [
    {
     "data": {
      "text/plain": [
       "(0, 8)"
      ]
     },
     "execution_count": 73,
     "metadata": {},
     "output_type": "execute_result"
    }
   ],
   "source": [
    "user_id"
   ]
  },
  {
   "cell_type": "code",
   "execution_count": 72,
   "metadata": {},
   "outputs": [
    {
     "data": {
      "text/html": [
       "<div>\n",
       "<style scoped>\n",
       "    .dataframe tbody tr th:only-of-type {\n",
       "        vertical-align: middle;\n",
       "    }\n",
       "\n",
       "    .dataframe tbody tr th {\n",
       "        vertical-align: top;\n",
       "    }\n",
       "\n",
       "    .dataframe thead th {\n",
       "        text-align: right;\n",
       "    }\n",
       "</style>\n",
       "<table border=\"1\" class=\"dataframe\">\n",
       "  <thead>\n",
       "    <tr style=\"text-align: right;\">\n",
       "      <th></th>\n",
       "      <th>user_id</th>\n",
       "      <th>book_id</th>\n",
       "      <th>rating</th>\n",
       "    </tr>\n",
       "  </thead>\n",
       "  <tbody>\n",
       "    <tr>\n",
       "      <th>5865646</th>\n",
       "      <td>30318</td>\n",
       "      <td>1267</td>\n",
       "      <td>3</td>\n",
       "    </tr>\n",
       "    <tr>\n",
       "      <th>3213073</th>\n",
       "      <td>39103</td>\n",
       "      <td>2925</td>\n",
       "      <td>3</td>\n",
       "    </tr>\n",
       "    <tr>\n",
       "      <th>1880951</th>\n",
       "      <td>26054</td>\n",
       "      <td>2523</td>\n",
       "      <td>3</td>\n",
       "    </tr>\n",
       "    <tr>\n",
       "      <th>3190520</th>\n",
       "      <td>39022</td>\n",
       "      <td>9194</td>\n",
       "      <td>5</td>\n",
       "    </tr>\n",
       "    <tr>\n",
       "      <th>5125670</th>\n",
       "      <td>52142</td>\n",
       "      <td>6314</td>\n",
       "      <td>5</td>\n",
       "    </tr>\n",
       "    <tr>\n",
       "      <th>...</th>\n",
       "      <td>...</td>\n",
       "      <td>...</td>\n",
       "      <td>...</td>\n",
       "    </tr>\n",
       "    <tr>\n",
       "      <th>4731607</th>\n",
       "      <td>50060</td>\n",
       "      <td>2536</td>\n",
       "      <td>4</td>\n",
       "    </tr>\n",
       "    <tr>\n",
       "      <th>530426</th>\n",
       "      <td>9710</td>\n",
       "      <td>3585</td>\n",
       "      <td>1</td>\n",
       "    </tr>\n",
       "    <tr>\n",
       "      <th>4626623</th>\n",
       "      <td>40705</td>\n",
       "      <td>25</td>\n",
       "      <td>4</td>\n",
       "    </tr>\n",
       "    <tr>\n",
       "      <th>3968512</th>\n",
       "      <td>15459</td>\n",
       "      <td>12</td>\n",
       "      <td>2</td>\n",
       "    </tr>\n",
       "    <tr>\n",
       "      <th>676371</th>\n",
       "      <td>10970</td>\n",
       "      <td>123</td>\n",
       "      <td>3</td>\n",
       "    </tr>\n",
       "  </tbody>\n",
       "</table>\n",
       "<p>672279 rows × 3 columns</p>\n",
       "</div>"
      ],
      "text/plain": [
       "         user_id  book_id  rating\n",
       "5865646    30318     1267       3\n",
       "3213073    39103     2925       3\n",
       "1880951    26054     2523       3\n",
       "3190520    39022     9194       5\n",
       "5125670    52142     6314       5\n",
       "...          ...      ...     ...\n",
       "4731607    50060     2536       4\n",
       "530426      9710     3585       1\n",
       "4626623    40705       25       4\n",
       "3968512    15459       12       2\n",
       "676371     10970      123       3\n",
       "\n",
       "[672279 rows x 3 columns]"
      ]
     },
     "execution_count": 72,
     "metadata": {},
     "output_type": "execute_result"
    }
   ],
   "source": [
    "input_ratings[input_ratings.user_id==user_id]"
   ]
  },
  {
   "cell_type": "code",
   "execution_count": 9,
   "metadata": {},
   "outputs": [
    {
     "name": "stdout",
     "output_type": "stream",
     "text": [
      "KFold(n_splits=8, random_state=42, shuffle=True)\n",
      "Fold 0:\n",
      "  Train: index=[    0     1     2 ... 53421 53422 53423]\n",
      "  Test:  index=[    4     6    34 ... 53397 53400 53412]\n"
     ]
    },
    {
     "name": "stderr",
     "output_type": "stream",
     "text": [
      "/home/felix/anaconda3/lib/python3.7/site-packages/numpy/lib/function_base.py:2526: RuntimeWarning: Degrees of freedom <= 0 for slice\n",
      "  c = cov(x, y, rowvar)\n",
      "/home/felix/anaconda3/lib/python3.7/site-packages/numpy/lib/function_base.py:2455: RuntimeWarning: divide by zero encountered in true_divide\n",
      "  c *= np.true_divide(1, fact)\n"
     ]
    }
   ],
   "source": [
    "K=8\n",
    "kf = KFold(n_splits=K, shuffle=True, random_state=42)\n",
    "kf.get_n_splits(user_ids)\n",
    "print(kf)\n",
    "for i, (train_index, test_index) in enumerate(kf.split(user_ids)):\n",
    "    print(f\"Fold {i}:\")\n",
    "    print(f\"  Train: index={train_index}\")\n",
    "    print(f\"  Test:  index={test_index}\")\n",
    "    train_user_ids, test_user_ids = user_ids[train_index], user_ids[test_index]\n",
    "    train_ratings, test_ratings = ratings[ratings.user_id.isin(train_user_ids)], \\\n",
    "                                    ratings[ratings.user_id.isin(test_user_ids)]\n",
    "    input_ratings, heldout_ratings = train_test_split(test_ratings, \n",
    "                                                      stratify=test_ratings.user_id, \n",
    "                                                      test_size=0.1, \n",
    "                                                      random_state=42)\n",
    "    train_ratings = pd.concat([train_ratings, input_ratings])\n",
    "    uii_matrix = train_ratings.pivot_table(\n",
    "      index=[\"user_id\"], \n",
    "      columns=[\"book_id\"], \n",
    "      values=\"rating\").fillna(np.nan)\n",
    "    # similarities = uii_matrix.corr(min_periods=minimum_number_of_books_rated_in_common)\n",
    "    mae = 0\n",
    "    coverage = 0\n",
    "    for user_id in enumerate(test_user_ids[:1]):\n",
    "        similarities = uii_matrix.corrwith(uii_matrix.loc[user_id], axis=1)\n",
    "        \n",
    "        minimum_number_of_books_rated_in_common = 10\n",
    "\n",
    "        # Only use those which have an intersection of more than n books\n",
    "        my_books_read = uii_matrix.loc[user_id].notna()\n",
    "        intersections = uii_matrix.apply(lambda x: (x.notna() & my_books_read).sum(), axis=1)\n",
    "        similarities[intersections < minimum_number_of_books_rated_in_common] = np.nan\n",
    "\n",
    "        # Remove self similarity\n",
    "        similarities[user_id] = np.nan\n",
    "\n",
    "        minimal_similarity = 0.7\n",
    "        minimal_number_of_ratings = 5\n",
    "\n",
    "        predicted_scores = uii_matrix.apply(lambda x: scoring(x))\n",
    "        true_scores = heldout_ratings[heldout_ratings.user_id==user_id]\n",
    "        predictions = true_scores.merge(predicted_scores.rename('scores'), on='book_id', how='left')\n",
    "        coverage += 1-predictions.scores.isna().sum()/len(predictions)\n",
    "        mae += (predictions.rating-predictions.scores).abs().mean()\n",
    "    coverage /= len(test_user_ids)\n",
    "    mae /= len(test_user_ids)\n",
    "        \n",
    "        \n",
    "    if i==0:\n",
    "        break"
   ]
  },
  {
   "cell_type": "code",
   "execution_count": 14,
   "metadata": {},
   "outputs": [],
   "source": [
    "from concurrent.futures import ThreadPoolExecutor, ProcessPoolExecutor"
   ]
  },
  {
   "cell_type": "code",
   "execution_count": 16,
   "metadata": {},
   "outputs": [],
   "source": [
    "def get_similarities(user_id):\n",
    "    return uii_matrix.corrwith(uii_matrix.loc[user_id], axis=1)"
   ]
  },
  {
   "cell_type": "code",
   "execution_count": 19,
   "metadata": {},
   "outputs": [
    {
     "data": {
      "text/plain": [
       "6678"
      ]
     },
     "execution_count": 19,
     "metadata": {},
     "output_type": "execute_result"
    }
   ],
   "source": [
    "len(test_user_ids)"
   ]
  },
  {
   "cell_type": "code",
   "execution_count": 23,
   "metadata": {},
   "outputs": [
    {
     "name": "stderr",
     "output_type": "stream",
     "text": [
      "/home/felix/anaconda3/lib/python3.7/site-packages/numpy/lib/function_base.py:2526: RuntimeWarning: Degrees of freedom <= 0 for slice\n",
      "  c = cov(x, y, rowvar)\n",
      "/home/felix/anaconda3/lib/python3.7/site-packages/numpy/lib/function_base.py:2526: RuntimeWarning: Degrees of freedom <= 0 for slice\n",
      "  c = cov(x, y, rowvar)\n",
      "/home/felix/anaconda3/lib/python3.7/site-packages/numpy/lib/function_base.py:2526: RuntimeWarning: Degrees of freedom <= 0 for slice\n",
      "  c = cov(x, y, rowvar)\n",
      "/home/felix/anaconda3/lib/python3.7/site-packages/numpy/lib/function_base.py:2526: RuntimeWarning: Degrees of freedom <= 0 for slice\n",
      "  c = cov(x, y, rowvar)\n",
      "/home/felix/anaconda3/lib/python3.7/site-packages/numpy/lib/function_base.py:2526: RuntimeWarning: Degrees of freedom <= 0 for slice\n",
      "  c = cov(x, y, rowvar)\n",
      "/home/felix/anaconda3/lib/python3.7/site-packages/numpy/lib/function_base.py:2455: RuntimeWarning: divide by zero encountered in true_divide\n",
      "  c *= np.true_divide(1, fact)\n",
      "/home/felix/anaconda3/lib/python3.7/site-packages/numpy/lib/function_base.py:2455: RuntimeWarning: divide by zero encountered in true_divide\n",
      "  c *= np.true_divide(1, fact)\n",
      "/home/felix/anaconda3/lib/python3.7/site-packages/numpy/lib/function_base.py:2455: RuntimeWarning: divide by zero encountered in true_divide\n",
      "  c *= np.true_divide(1, fact)\n",
      "/home/felix/anaconda3/lib/python3.7/site-packages/numpy/lib/function_base.py:2526: RuntimeWarning: Degrees of freedom <= 0 for slice\n",
      "  c = cov(x, y, rowvar)\n",
      "/home/felix/anaconda3/lib/python3.7/site-packages/numpy/lib/function_base.py:2455: RuntimeWarning: divide by zero encountered in true_divide\n",
      "  c *= np.true_divide(1, fact)\n",
      "/home/felix/anaconda3/lib/python3.7/site-packages/numpy/lib/function_base.py:2455: RuntimeWarning: divide by zero encountered in true_divide\n",
      "  c *= np.true_divide(1, fact)\n",
      "/home/felix/anaconda3/lib/python3.7/site-packages/numpy/lib/function_base.py:2455: RuntimeWarning: divide by zero encountered in true_divide\n",
      "  c *= np.true_divide(1, fact)\n",
      "/home/felix/anaconda3/lib/python3.7/site-packages/numpy/lib/function_base.py:2526: RuntimeWarning: Degrees of freedom <= 0 for slice\n",
      "  c = cov(x, y, rowvar)\n",
      "/home/felix/anaconda3/lib/python3.7/site-packages/numpy/lib/function_base.py:2455: RuntimeWarning: divide by zero encountered in true_divide\n",
      "  c *= np.true_divide(1, fact)\n",
      "/home/felix/anaconda3/lib/python3.7/site-packages/numpy/lib/function_base.py:2526: RuntimeWarning: Degrees of freedom <= 0 for slice\n",
      "  c = cov(x, y, rowvar)\n",
      "/home/felix/anaconda3/lib/python3.7/site-packages/numpy/lib/function_base.py:2455: RuntimeWarning: divide by zero encountered in true_divide\n",
      "  c *= np.true_divide(1, fact)\n"
     ]
    },
    {
     "name": "stdout",
     "output_type": "stream",
     "text": [
      "81.79463362693787\n"
     ]
    }
   ],
   "source": [
    "from time import time\n",
    "start_time = time()\n",
    "with ProcessPoolExecutor(max_workers=8) as executor:\n",
    "    results = executor.map(get_similarities, test_user_ids[:8])\n",
    "print(time()-start_time)"
   ]
  },
  {
   "cell_type": "code",
   "execution_count": null,
   "metadata": {},
   "outputs": [],
   "source": [
    "            with Pool(processes=4) as p:\n",
    "                similarities = p.map(uii_matrix.corrwith(uii_matrix.loc[user_id], axis=1) for user_id in test_user_ids],\n",
    "                        )\n",
    "\n"
   ]
  },
  {
   "cell_type": "code",
   "execution_count": 10,
   "metadata": {},
   "outputs": [
    {
     "data": {
      "text/plain": [
       "user_id\n",
       "1        0.190494\n",
       "2             NaN\n",
       "3             NaN\n",
       "4       -0.081870\n",
       "5             NaN\n",
       "           ...   \n",
       "53420         NaN\n",
       "53421    0.575282\n",
       "53422         NaN\n",
       "53423         NaN\n",
       "53424         NaN\n",
       "Length: 53424, dtype: float64"
      ]
     },
     "execution_count": 10,
     "metadata": {},
     "output_type": "execute_result"
    }
   ],
   "source": [
    "len(test_user_ids)"
   ]
  },
  {
   "cell_type": "code",
   "execution_count": 12,
   "metadata": {},
   "outputs": [
    {
     "data": {
      "text/plain": [
       "(53424, 10000)"
      ]
     },
     "execution_count": 12,
     "metadata": {},
     "output_type": "execute_result"
    }
   ],
   "source": [
    "uii_matrix.shape"
   ]
  },
  {
   "cell_type": "code",
   "execution_count": 20,
   "metadata": {},
   "outputs": [
    {
     "data": {
      "text/plain": [
       "0.8185837954257885"
      ]
     },
     "execution_count": 20,
     "metadata": {},
     "output_type": "execute_result"
    }
   ],
   "source": [
    "(predictions.rating-predictions.scores).abs().mean()"
   ]
  },
  {
   "cell_type": "code",
   "execution_count": 22,
   "metadata": {},
   "outputs": [
    {
     "data": {
      "text/plain": [
       "0.8185837954257885"
      ]
     },
     "execution_count": 22,
     "metadata": {},
     "output_type": "execute_result"
    }
   ],
   "source": [
    "(predictions[~predictions.scores.isna()].rating-predictions[~predictions.scores.isna()].scores).abs().mean()"
   ]
  },
  {
   "cell_type": "code",
   "execution_count": 23,
   "metadata": {},
   "outputs": [
    {
     "data": {
      "text/html": [
       "<div>\n",
       "<style scoped>\n",
       "    .dataframe tbody tr th:only-of-type {\n",
       "        vertical-align: middle;\n",
       "    }\n",
       "\n",
       "    .dataframe tbody tr th {\n",
       "        vertical-align: top;\n",
       "    }\n",
       "\n",
       "    .dataframe thead th {\n",
       "        text-align: right;\n",
       "    }\n",
       "</style>\n",
       "<table border=\"1\" class=\"dataframe\">\n",
       "  <thead>\n",
       "    <tr style=\"text-align: right;\">\n",
       "      <th></th>\n",
       "      <th>user_id</th>\n",
       "      <th>book_id</th>\n",
       "      <th>rating</th>\n",
       "      <th>scores</th>\n",
       "    </tr>\n",
       "  </thead>\n",
       "  <tbody>\n",
       "    <tr>\n",
       "      <th>0</th>\n",
       "      <td>8</td>\n",
       "      <td>1214</td>\n",
       "      <td>5</td>\n",
       "      <td>3.887177</td>\n",
       "    </tr>\n",
       "    <tr>\n",
       "      <th>3</th>\n",
       "      <td>8</td>\n",
       "      <td>531</td>\n",
       "      <td>3</td>\n",
       "      <td>2.807860</td>\n",
       "    </tr>\n",
       "    <tr>\n",
       "      <th>4</th>\n",
       "      <td>8</td>\n",
       "      <td>80</td>\n",
       "      <td>5</td>\n",
       "      <td>4.593925</td>\n",
       "    </tr>\n",
       "    <tr>\n",
       "      <th>6</th>\n",
       "      <td>8</td>\n",
       "      <td>1937</td>\n",
       "      <td>3</td>\n",
       "      <td>4.155060</td>\n",
       "    </tr>\n",
       "    <tr>\n",
       "      <th>7</th>\n",
       "      <td>8</td>\n",
       "      <td>4</td>\n",
       "      <td>3</td>\n",
       "      <td>4.068401</td>\n",
       "    </tr>\n",
       "    <tr>\n",
       "      <th>8</th>\n",
       "      <td>8</td>\n",
       "      <td>264</td>\n",
       "      <td>3</td>\n",
       "      <td>4.059791</td>\n",
       "    </tr>\n",
       "    <tr>\n",
       "      <th>9</th>\n",
       "      <td>8</td>\n",
       "      <td>65</td>\n",
       "      <td>5</td>\n",
       "      <td>4.264203</td>\n",
       "    </tr>\n",
       "  </tbody>\n",
       "</table>\n",
       "</div>"
      ],
      "text/plain": [
       "   user_id  book_id  rating    scores\n",
       "0        8     1214       5  3.887177\n",
       "3        8      531       3  2.807860\n",
       "4        8       80       5  4.593925\n",
       "6        8     1937       3  4.155060\n",
       "7        8        4       3  4.068401\n",
       "8        8      264       3  4.059791\n",
       "9        8       65       5  4.264203"
      ]
     },
     "execution_count": 23,
     "metadata": {},
     "output_type": "execute_result"
    }
   ],
   "source": [
    "predictions[~predictions.scores.isna()]"
   ]
  },
  {
   "cell_type": "code",
   "execution_count": 18,
   "metadata": {},
   "outputs": [
    {
     "data": {
      "text/html": [
       "<div>\n",
       "<style scoped>\n",
       "    .dataframe tbody tr th:only-of-type {\n",
       "        vertical-align: middle;\n",
       "    }\n",
       "\n",
       "    .dataframe tbody tr th {\n",
       "        vertical-align: top;\n",
       "    }\n",
       "\n",
       "    .dataframe thead th {\n",
       "        text-align: right;\n",
       "    }\n",
       "</style>\n",
       "<table border=\"1\" class=\"dataframe\">\n",
       "  <thead>\n",
       "    <tr style=\"text-align: right;\">\n",
       "      <th></th>\n",
       "      <th>user_id</th>\n",
       "      <th>book_id</th>\n",
       "      <th>rating</th>\n",
       "      <th>scores</th>\n",
       "    </tr>\n",
       "  </thead>\n",
       "  <tbody>\n",
       "    <tr>\n",
       "      <th>0</th>\n",
       "      <td>8</td>\n",
       "      <td>1214</td>\n",
       "      <td>5</td>\n",
       "      <td>3.887177</td>\n",
       "    </tr>\n",
       "    <tr>\n",
       "      <th>1</th>\n",
       "      <td>8</td>\n",
       "      <td>3700</td>\n",
       "      <td>4</td>\n",
       "      <td>NaN</td>\n",
       "    </tr>\n",
       "    <tr>\n",
       "      <th>2</th>\n",
       "      <td>8</td>\n",
       "      <td>2781</td>\n",
       "      <td>4</td>\n",
       "      <td>NaN</td>\n",
       "    </tr>\n",
       "    <tr>\n",
       "      <th>3</th>\n",
       "      <td>8</td>\n",
       "      <td>531</td>\n",
       "      <td>3</td>\n",
       "      <td>2.807860</td>\n",
       "    </tr>\n",
       "    <tr>\n",
       "      <th>4</th>\n",
       "      <td>8</td>\n",
       "      <td>80</td>\n",
       "      <td>5</td>\n",
       "      <td>4.593925</td>\n",
       "    </tr>\n",
       "    <tr>\n",
       "      <th>5</th>\n",
       "      <td>8</td>\n",
       "      <td>782</td>\n",
       "      <td>3</td>\n",
       "      <td>NaN</td>\n",
       "    </tr>\n",
       "    <tr>\n",
       "      <th>6</th>\n",
       "      <td>8</td>\n",
       "      <td>1937</td>\n",
       "      <td>3</td>\n",
       "      <td>4.155060</td>\n",
       "    </tr>\n",
       "    <tr>\n",
       "      <th>7</th>\n",
       "      <td>8</td>\n",
       "      <td>4</td>\n",
       "      <td>3</td>\n",
       "      <td>4.068401</td>\n",
       "    </tr>\n",
       "    <tr>\n",
       "      <th>8</th>\n",
       "      <td>8</td>\n",
       "      <td>264</td>\n",
       "      <td>3</td>\n",
       "      <td>4.059791</td>\n",
       "    </tr>\n",
       "    <tr>\n",
       "      <th>9</th>\n",
       "      <td>8</td>\n",
       "      <td>65</td>\n",
       "      <td>5</td>\n",
       "      <td>4.264203</td>\n",
       "    </tr>\n",
       "  </tbody>\n",
       "</table>\n",
       "</div>"
      ],
      "text/plain": [
       "   user_id  book_id  rating    scores\n",
       "0        8     1214       5  3.887177\n",
       "1        8     3700       4       NaN\n",
       "2        8     2781       4       NaN\n",
       "3        8      531       3  2.807860\n",
       "4        8       80       5  4.593925\n",
       "5        8      782       3       NaN\n",
       "6        8     1937       3  4.155060\n",
       "7        8        4       3  4.068401\n",
       "8        8      264       3  4.059791\n",
       "9        8       65       5  4.264203"
      ]
     },
     "execution_count": 18,
     "metadata": {},
     "output_type": "execute_result"
    }
   ],
   "source": [
    "predictions = true_scores.merge(predicted_scores.rename('scores'), on='book_id', how='left')\n",
    "predictions.head(20)"
   ]
  },
  {
   "cell_type": "code",
   "execution_count": 16,
   "metadata": {},
   "outputs": [
    {
     "data": {
      "text/plain": [
       "0.7"
      ]
     },
     "execution_count": 16,
     "metadata": {},
     "output_type": "execute_result"
    }
   ],
   "source": [
    "1-predictions.scores.isna().sum()/len(predictions)"
   ]
  },
  {
   "cell_type": "code",
   "execution_count": 24,
   "metadata": {},
   "outputs": [
    {
     "data": {
      "text/plain": [
       "Int64Index([    294,     295,     296,     326,     327,     328,     329,\n",
       "                330,     331,     332,\n",
       "            ...\n",
       "            5976128, 5976166, 5976308, 5976325, 5976335, 5976348, 5976462,\n",
       "            5976467, 5976468, 5976469],\n",
       "           dtype='int64', length=746932)"
      ]
     },
     "execution_count": 24,
     "metadata": {},
     "output_type": "execute_result"
    }
   ],
   "source": [
    "test_ratings.index"
   ]
  },
  {
   "cell_type": "code",
   "execution_count": 31,
   "metadata": {},
   "outputs": [],
   "source": [
    "heldout_ratings = train_test_split(test_ratings, stratify=test_ratings.user_id, test_size=0.1, random_state=42)"
   ]
  },
  {
   "cell_type": "code",
   "execution_count": 32,
   "metadata": {},
   "outputs": [
    {
     "data": {
      "text/html": [
       "<div>\n",
       "<style scoped>\n",
       "    .dataframe tbody tr th:only-of-type {\n",
       "        vertical-align: middle;\n",
       "    }\n",
       "\n",
       "    .dataframe tbody tr th {\n",
       "        vertical-align: top;\n",
       "    }\n",
       "\n",
       "    .dataframe thead th {\n",
       "        text-align: right;\n",
       "    }\n",
       "</style>\n",
       "<table border=\"1\" class=\"dataframe\">\n",
       "  <thead>\n",
       "    <tr style=\"text-align: right;\">\n",
       "      <th></th>\n",
       "      <th>user_id</th>\n",
       "      <th>book_id</th>\n",
       "      <th>rating</th>\n",
       "    </tr>\n",
       "  </thead>\n",
       "  <tbody>\n",
       "    <tr>\n",
       "      <th>1306545</th>\n",
       "      <td>19123</td>\n",
       "      <td>681</td>\n",
       "      <td>2</td>\n",
       "    </tr>\n",
       "    <tr>\n",
       "      <th>4140955</th>\n",
       "      <td>32747</td>\n",
       "      <td>88</td>\n",
       "      <td>3</td>\n",
       "    </tr>\n",
       "    <tr>\n",
       "      <th>1955432</th>\n",
       "      <td>26855</td>\n",
       "      <td>123</td>\n",
       "      <td>3</td>\n",
       "    </tr>\n",
       "    <tr>\n",
       "      <th>4958313</th>\n",
       "      <td>17494</td>\n",
       "      <td>363</td>\n",
       "      <td>4</td>\n",
       "    </tr>\n",
       "    <tr>\n",
       "      <th>498574</th>\n",
       "      <td>9328</td>\n",
       "      <td>13</td>\n",
       "      <td>5</td>\n",
       "    </tr>\n",
       "    <tr>\n",
       "      <th>...</th>\n",
       "      <td>...</td>\n",
       "      <td>...</td>\n",
       "      <td>...</td>\n",
       "    </tr>\n",
       "    <tr>\n",
       "      <th>3286456</th>\n",
       "      <td>39782</td>\n",
       "      <td>4722</td>\n",
       "      <td>4</td>\n",
       "    </tr>\n",
       "    <tr>\n",
       "      <th>2014564</th>\n",
       "      <td>26781</td>\n",
       "      <td>35</td>\n",
       "      <td>5</td>\n",
       "    </tr>\n",
       "    <tr>\n",
       "      <th>5152592</th>\n",
       "      <td>3993</td>\n",
       "      <td>1092</td>\n",
       "      <td>3</td>\n",
       "    </tr>\n",
       "    <tr>\n",
       "      <th>2420551</th>\n",
       "      <td>17019</td>\n",
       "      <td>5080</td>\n",
       "      <td>4</td>\n",
       "    </tr>\n",
       "    <tr>\n",
       "      <th>373162</th>\n",
       "      <td>7905</td>\n",
       "      <td>890</td>\n",
       "      <td>5</td>\n",
       "    </tr>\n",
       "  </tbody>\n",
       "</table>\n",
       "<p>74694 rows × 3 columns</p>\n",
       "</div>"
      ],
      "text/plain": [
       "         user_id  book_id  rating\n",
       "1306545    19123      681       2\n",
       "4140955    32747       88       3\n",
       "1955432    26855      123       3\n",
       "4958313    17494      363       4\n",
       "498574      9328       13       5\n",
       "...          ...      ...     ...\n",
       "3286456    39782     4722       4\n",
       "2014564    26781       35       5\n",
       "5152592     3993     1092       3\n",
       "2420551    17019     5080       4\n",
       "373162      7905      890       5\n",
       "\n",
       "[74694 rows x 3 columns]"
      ]
     },
     "execution_count": 32,
     "metadata": {},
     "output_type": "execute_result"
    }
   ],
   "source": [
    "heldout_ratings[1]"
   ]
  },
  {
   "cell_type": "code",
   "execution_count": null,
   "metadata": {},
   "outputs": [],
   "source": []
  }
 ],
 "metadata": {
  "kernelspec": {
   "display_name": "Python 3",
   "language": "python",
   "name": "python3"
  },
  "language_info": {
   "codemirror_mode": {
    "name": "ipython",
    "version": 3
   },
   "file_extension": ".py",
   "mimetype": "text/x-python",
   "name": "python",
   "nbconvert_exporter": "python",
   "pygments_lexer": "ipython3",
   "version": "3.7.6"
  }
 },
 "nbformat": 4,
 "nbformat_minor": 4
}
